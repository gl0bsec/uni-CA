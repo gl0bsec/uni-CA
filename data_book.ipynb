{
 "cells": [
  {
   "cell_type": "markdown",
   "metadata": {},
   "source": [
    "## Clean and wrangle data "
   ]
  },
  {
   "cell_type": "markdown",
   "metadata": {},
   "source": [
    "### Discord exports"
   ]
  },
  {
   "cell_type": "code",
   "execution_count": 3,
   "metadata": {},
   "outputs": [
    {
     "name": "stdout",
     "output_type": "stream",
     "text": [
      "Messages data has been saved to test-data/test-data\\Bellingcat-regions-india-subcontinent.json.csv\n"
     ]
    },
    {
     "name": "stderr",
     "output_type": "stream",
     "text": [
      "<>:4: SyntaxWarning: invalid escape sequence '\\B'\n",
      "<>:4: SyntaxWarning: invalid escape sequence '\\B'\n",
      "C:\\Users\\User\\AppData\\Local\\Temp\\ipykernel_10036\\431723721.py:4: SyntaxWarning: invalid escape sequence '\\B'\n",
      "  filename = 'test-data\\Bellingcat-regions-india-subcontinent.json'\n"
     ]
    }
   ],
   "source": [
    "import pandas as pd\n",
    "import json\n",
    "\n",
    "filename = 'test-data\\Bellingcat-regions-india-subcontinent.json'\n",
    "\n",
    "# Load the JSON data from the file\n",
    "with open(filename, 'r',encoding='utf-8') as file:\n",
    "    data = json.load(file)\n",
    "\n",
    "# Extract messages data\n",
    "messages = data['messages']\n",
    "\n",
    "# Prepare a list to store the message details\n",
    "message_details = []\n",
    "\n",
    "for message in messages:\n",
    "    # Extract author details\n",
    "    author = message['author']\n",
    "    message_details.append({\n",
    "        'message_id': message['id'],\n",
    "        'message_type': message['type'],\n",
    "        'timestamp': message['timestamp'],\n",
    "        'timestamp_edited': message['timestampEdited'],\n",
    "        'call_ended_timestamp': message['callEndedTimestamp'],\n",
    "        'is_pinned': message['isPinned'],\n",
    "        'content': message['content'],\n",
    "        'author_id': author['id'],\n",
    "        'author_name': author['name'],\n",
    "        'author_discriminator': author['discriminator'],\n",
    "        'author_nickname': author['nickname'],\n",
    "        'author_color': author['color'],\n",
    "        'author_is_bot': author['isBot'],\n",
    "        'author_roles': author['roles'],\n",
    "        'author_avatar_url': author['avatarUrl'],\n",
    "        'attachments': message['attachments'],\n",
    "        'embeds': message['embeds'],\n",
    "        'stickers': message['stickers'],\n",
    "        'reactions': message['reactions'],\n",
    "        'mentions': message['mentions']\n",
    "    })\n",
    "\n",
    "# Convert the list to a DataFrame\n",
    "df = pd.DataFrame(message_details)\n",
    "\n",
    "# Save the DataFrame to a CSV file\n",
    "df.to_csv(filename+'.csv', index=False)\n",
    "\n",
    "print(f\"Messages data has been saved to {'test-data/'+filename+'.csv'}\")"
   ]
  },
  {
   "cell_type": "markdown",
   "metadata": {},
   "source": [
    "### Telegram exports"
   ]
  },
  {
   "cell_type": "code",
   "execution_count": null,
   "metadata": {},
   "outputs": [],
   "source": []
  }
 ],
 "metadata": {
  "kernelspec": {
   "display_name": "Python 3",
   "language": "python",
   "name": "python3"
  },
  "language_info": {
   "codemirror_mode": {
    "name": "ipython",
    "version": 3
   },
   "file_extension": ".py",
   "mimetype": "text/x-python",
   "name": "python",
   "nbconvert_exporter": "python",
   "pygments_lexer": "ipython3",
   "version": "3.12.4"
  }
 },
 "nbformat": 4,
 "nbformat_minor": 2
}
