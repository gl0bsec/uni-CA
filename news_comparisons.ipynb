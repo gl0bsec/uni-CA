{
 "cells": [
  {
   "cell_type": "code",
   "execution_count": null,
   "metadata": {},
   "outputs": [],
   "source": [
    "from viz_wip import interactive_plot_time_series, interactive_plot_top_tags\n",
    "import warnings \n",
    "import pandas as pd \n",
    "warnings.filterwarnings(\"ignore\")\n",
    "data = pd.read_csv('global_news_testing_raw.csv')\n",
    "interactive_plot_time_series(data, date_column='DATE', target_column='THEMES')\n",
    "interactive_plot_time_series(data, date_column='DATE', target_column='ORGANIZATIONS')\n",
    "interactive_plot_top_tags(data, column='ORGANIZATIONS', date_column='DATE')\n",
    "interactive_plot_top_tags(data, column='THEMES', date_column='DATE')"
   ]
  },
  {
   "cell_type": "code",
   "execution_count": null,
   "metadata": {},
   "outputs": [],
   "source": [
    "from mc_api import *\n"
   ]
  }
 ],
 "metadata": {
  "kernelspec": {
   "display_name": "Python 3",
   "language": "python",
   "name": "python3"
  },
  "language_info": {
   "codemirror_mode": {
    "name": "ipython",
    "version": 3
   },
   "file_extension": ".py",
   "mimetype": "text/x-python",
   "name": "python",
   "nbconvert_exporter": "python",
   "pygments_lexer": "ipython3",
   "version": "3.11.6"
  }
 },
 "nbformat": 4,
 "nbformat_minor": 2
}
